{
 "cells": [
  {
   "cell_type": "code",
   "execution_count": 1,
   "id": "11ebe751",
   "metadata": {},
   "outputs": [],
   "source": [
    "import pandas as pd\n",
    "import numpy as np\n",
    "\n",
    "from matplotlib import pyplot as plt\n",
    "import seaborn as sns"
   ]
  },
  {
   "cell_type": "code",
   "execution_count": 2,
   "id": "b5534fd0",
   "metadata": {},
   "outputs": [],
   "source": [
    "DATASET_PATH = \"../data/beer.csv\"\n",
    "\n",
    "df = pd.read_csv(DATASET_PATH)"
   ]
  },
  {
   "cell_type": "code",
   "execution_count": 3,
   "id": "3600f6ce",
   "metadata": {},
   "outputs": [
    {
     "name": "stdout",
     "output_type": "stream",
     "text": [
      "<class 'pandas.core.frame.DataFrame'>\n",
      "RangeIndex: 1586614 entries, 0 to 1586613\n",
      "Data columns (total 13 columns):\n",
      " #   Column              Non-Null Count    Dtype  \n",
      "---  ------              --------------    -----  \n",
      " 0   brewery_id          1586614 non-null  int64  \n",
      " 1   brewery_name        1586599 non-null  object \n",
      " 2   review_time         1586614 non-null  int64  \n",
      " 3   review_overall      1586614 non-null  float64\n",
      " 4   review_aroma        1586614 non-null  float64\n",
      " 5   review_appearance   1586614 non-null  float64\n",
      " 6   review_profilename  1586266 non-null  object \n",
      " 7   beer_style          1586614 non-null  object \n",
      " 8   review_palate       1586614 non-null  float64\n",
      " 9   review_taste        1586614 non-null  float64\n",
      " 10  beer_name           1586614 non-null  object \n",
      " 11  beer_abv            1518829 non-null  float64\n",
      " 12  beer_beerid         1586614 non-null  int64  \n",
      "dtypes: float64(6), int64(3), object(4)\n",
      "memory usage: 157.4+ MB\n"
     ]
    }
   ],
   "source": [
    "df.info()"
   ]
  },
  {
   "cell_type": "code",
   "execution_count": 4,
   "id": "d06de7ca",
   "metadata": {},
   "outputs": [
    {
     "data": {
      "text/html": [
       "<div>\n",
       "<style scoped>\n",
       "    .dataframe tbody tr th:only-of-type {\n",
       "        vertical-align: middle;\n",
       "    }\n",
       "\n",
       "    .dataframe tbody tr th {\n",
       "        vertical-align: top;\n",
       "    }\n",
       "\n",
       "    .dataframe thead th {\n",
       "        text-align: right;\n",
       "    }\n",
       "</style>\n",
       "<table border=\"1\" class=\"dataframe\">\n",
       "  <thead>\n",
       "    <tr style=\"text-align: right;\">\n",
       "      <th></th>\n",
       "      <th>brewery_id</th>\n",
       "      <th>brewery_name</th>\n",
       "      <th>review_time</th>\n",
       "      <th>review_overall</th>\n",
       "      <th>review_aroma</th>\n",
       "      <th>review_appearance</th>\n",
       "      <th>review_profilename</th>\n",
       "      <th>beer_style</th>\n",
       "      <th>review_palate</th>\n",
       "      <th>review_taste</th>\n",
       "      <th>beer_name</th>\n",
       "      <th>beer_abv</th>\n",
       "      <th>beer_beerid</th>\n",
       "    </tr>\n",
       "  </thead>\n",
       "  <tbody>\n",
       "    <tr>\n",
       "      <th>0</th>\n",
       "      <td>10325</td>\n",
       "      <td>Vecchio Birraio</td>\n",
       "      <td>1234817823</td>\n",
       "      <td>1.5</td>\n",
       "      <td>2.0</td>\n",
       "      <td>2.5</td>\n",
       "      <td>stcules</td>\n",
       "      <td>Hefeweizen</td>\n",
       "      <td>1.5</td>\n",
       "      <td>1.5</td>\n",
       "      <td>Sausa Weizen</td>\n",
       "      <td>5.0</td>\n",
       "      <td>47986</td>\n",
       "    </tr>\n",
       "    <tr>\n",
       "      <th>1</th>\n",
       "      <td>10325</td>\n",
       "      <td>Vecchio Birraio</td>\n",
       "      <td>1235915097</td>\n",
       "      <td>3.0</td>\n",
       "      <td>2.5</td>\n",
       "      <td>3.0</td>\n",
       "      <td>stcules</td>\n",
       "      <td>English Strong Ale</td>\n",
       "      <td>3.0</td>\n",
       "      <td>3.0</td>\n",
       "      <td>Red Moon</td>\n",
       "      <td>6.2</td>\n",
       "      <td>48213</td>\n",
       "    </tr>\n",
       "    <tr>\n",
       "      <th>2</th>\n",
       "      <td>10325</td>\n",
       "      <td>Vecchio Birraio</td>\n",
       "      <td>1235916604</td>\n",
       "      <td>3.0</td>\n",
       "      <td>2.5</td>\n",
       "      <td>3.0</td>\n",
       "      <td>stcules</td>\n",
       "      <td>Foreign / Export Stout</td>\n",
       "      <td>3.0</td>\n",
       "      <td>3.0</td>\n",
       "      <td>Black Horse Black Beer</td>\n",
       "      <td>6.5</td>\n",
       "      <td>48215</td>\n",
       "    </tr>\n",
       "    <tr>\n",
       "      <th>3</th>\n",
       "      <td>10325</td>\n",
       "      <td>Vecchio Birraio</td>\n",
       "      <td>1234725145</td>\n",
       "      <td>3.0</td>\n",
       "      <td>3.0</td>\n",
       "      <td>3.5</td>\n",
       "      <td>stcules</td>\n",
       "      <td>German Pilsener</td>\n",
       "      <td>2.5</td>\n",
       "      <td>3.0</td>\n",
       "      <td>Sausa Pils</td>\n",
       "      <td>5.0</td>\n",
       "      <td>47969</td>\n",
       "    </tr>\n",
       "    <tr>\n",
       "      <th>4</th>\n",
       "      <td>1075</td>\n",
       "      <td>Caldera Brewing Company</td>\n",
       "      <td>1293735206</td>\n",
       "      <td>4.0</td>\n",
       "      <td>4.5</td>\n",
       "      <td>4.0</td>\n",
       "      <td>johnmichaelsen</td>\n",
       "      <td>American Double / Imperial IPA</td>\n",
       "      <td>4.0</td>\n",
       "      <td>4.5</td>\n",
       "      <td>Cauldron DIPA</td>\n",
       "      <td>7.7</td>\n",
       "      <td>64883</td>\n",
       "    </tr>\n",
       "  </tbody>\n",
       "</table>\n",
       "</div>"
      ],
      "text/plain": [
       "   brewery_id             brewery_name  review_time  review_overall  \\\n",
       "0       10325          Vecchio Birraio   1234817823             1.5   \n",
       "1       10325          Vecchio Birraio   1235915097             3.0   \n",
       "2       10325          Vecchio Birraio   1235916604             3.0   \n",
       "3       10325          Vecchio Birraio   1234725145             3.0   \n",
       "4        1075  Caldera Brewing Company   1293735206             4.0   \n",
       "\n",
       "   review_aroma  review_appearance review_profilename  \\\n",
       "0           2.0                2.5            stcules   \n",
       "1           2.5                3.0            stcules   \n",
       "2           2.5                3.0            stcules   \n",
       "3           3.0                3.5            stcules   \n",
       "4           4.5                4.0     johnmichaelsen   \n",
       "\n",
       "                       beer_style  review_palate  review_taste  \\\n",
       "0                      Hefeweizen            1.5           1.5   \n",
       "1              English Strong Ale            3.0           3.0   \n",
       "2          Foreign / Export Stout            3.0           3.0   \n",
       "3                 German Pilsener            2.5           3.0   \n",
       "4  American Double / Imperial IPA            4.0           4.5   \n",
       "\n",
       "                beer_name  beer_abv  beer_beerid  \n",
       "0            Sausa Weizen       5.0        47986  \n",
       "1                Red Moon       6.2        48213  \n",
       "2  Black Horse Black Beer       6.5        48215  \n",
       "3              Sausa Pils       5.0        47969  \n",
       "4           Cauldron DIPA       7.7        64883  "
      ]
     },
     "execution_count": 4,
     "metadata": {},
     "output_type": "execute_result"
    }
   ],
   "source": [
    "df.head()"
   ]
  },
  {
   "cell_type": "markdown",
   "id": "28f8f798",
   "metadata": {},
   "source": [
    "## Consistency checking\n",
    "Here, I would like to check some fundamental qualities of the dataset such as missing values, outliers, uniqueness or relationship.\n",
    "The goal is to know what's in the dataset, so that we don't make unjustified assumptions."
   ]
  },
  {
   "cell_type": "markdown",
   "id": "be97ffcc",
   "metadata": {},
   "source": [
    "### `id`, `name`"
   ]
  },
  {
   "cell_type": "code",
   "execution_count": 5,
   "id": "bf8c8ae7",
   "metadata": {},
   "outputs": [
    {
     "data": {
      "text/plain": [
       "1586614"
      ]
     },
     "execution_count": 5,
     "metadata": {},
     "output_type": "execute_result"
    }
   ],
   "source": [
    "len(df)"
   ]
  },
  {
   "cell_type": "code",
   "execution_count": 6,
   "id": "f84d7cae",
   "metadata": {},
   "outputs": [
    {
     "data": {
      "text/plain": [
       "0"
      ]
     },
     "execution_count": 6,
     "metadata": {},
     "output_type": "execute_result"
    }
   ],
   "source": [
    "df[\"brewery_id\"].isna().sum()"
   ]
  },
  {
   "cell_type": "code",
   "execution_count": 7,
   "id": "f0b48635",
   "metadata": {},
   "outputs": [
    {
     "data": {
      "text/plain": [
       "15"
      ]
     },
     "execution_count": 7,
     "metadata": {},
     "output_type": "execute_result"
    }
   ],
   "source": [
    "df[\"brewery_name\"].isna().sum()"
   ]
  },
  {
   "cell_type": "code",
   "execution_count": 8,
   "id": "6e7ec448",
   "metadata": {},
   "outputs": [
    {
     "data": {
      "text/plain": [
       "<AxesSubplot:>"
      ]
     },
     "execution_count": 8,
     "metadata": {},
     "output_type": "execute_result"
    },
    {
     "data": {
      "image/png": "[encoded data removed]",
      "text/plain": [
       "<Figure size 432x288 with 1 Axes>"
      ]
     },
     "metadata": {
      "needs_background": "light"
     },
     "output_type": "display_data"
    }
   ],
   "source": [
    "df[\"brewery_id\"].hist(bins=50)"
   ]
  },
  {
   "cell_type": "code",
   "execution_count": 9,
   "id": "b817ff93",
   "metadata": {},
   "outputs": [
    {
     "data": {
      "text/html": [
       "<div>\n",
       "<style scoped>\n",
       "    .dataframe tbody tr th:only-of-type {\n",
       "        vertical-align: middle;\n",
       "    }\n",
       "\n",
       "    .dataframe tbody tr th {\n",
       "        vertical-align: top;\n",
       "    }\n",
       "\n",
       "    .dataframe thead th {\n",
       "        text-align: right;\n",
       "    }\n",
       "</style>\n",
       "<table border=\"1\" class=\"dataframe\">\n",
       "  <thead>\n",
       "    <tr style=\"text-align: right;\">\n",
       "      <th></th>\n",
       "      <th>n_unique_names</th>\n",
       "    </tr>\n",
       "    <tr>\n",
       "      <th>brewery_id</th>\n",
       "      <th></th>\n",
       "    </tr>\n",
       "  </thead>\n",
       "  <tbody>\n",
       "    <tr>\n",
       "      <th>1</th>\n",
       "      <td>1</td>\n",
       "    </tr>\n",
       "    <tr>\n",
       "      <th>14609</th>\n",
       "      <td>1</td>\n",
       "    </tr>\n",
       "    <tr>\n",
       "      <th>14598</th>\n",
       "      <td>1</td>\n",
       "    </tr>\n",
       "    <tr>\n",
       "      <th>14589</th>\n",
       "      <td>1</td>\n",
       "    </tr>\n",
       "    <tr>\n",
       "      <th>14577</th>\n",
       "      <td>1</td>\n",
       "    </tr>\n",
       "    <tr>\n",
       "      <th>...</th>\n",
       "      <td>...</td>\n",
       "    </tr>\n",
       "    <tr>\n",
       "      <th>4123</th>\n",
       "      <td>1</td>\n",
       "    </tr>\n",
       "    <tr>\n",
       "      <th>4121</th>\n",
       "      <td>1</td>\n",
       "    </tr>\n",
       "    <tr>\n",
       "      <th>28003</th>\n",
       "      <td>1</td>\n",
       "    </tr>\n",
       "    <tr>\n",
       "      <th>1193</th>\n",
       "      <td>0</td>\n",
       "    </tr>\n",
       "    <tr>\n",
       "      <th>27</th>\n",
       "      <td>0</td>\n",
       "    </tr>\n",
       "  </tbody>\n",
       "</table>\n",
       "<p>5840 rows × 1 columns</p>\n",
       "</div>"
      ],
      "text/plain": [
       "            n_unique_names\n",
       "brewery_id                \n",
       "1                        1\n",
       "14609                    1\n",
       "14598                    1\n",
       "14589                    1\n",
       "14577                    1\n",
       "...                    ...\n",
       "4123                     1\n",
       "4121                     1\n",
       "28003                    1\n",
       "1193                     0\n",
       "27                       0\n",
       "\n",
       "[5840 rows x 1 columns]"
      ]
     },
     "execution_count": 9,
     "metadata": {},
     "output_type": "execute_result"
    }
   ],
   "source": [
    "df[[\"brewery_name\", \"brewery_id\"]].groupby(by=\"brewery_id\") \\\n",
    "    .nunique() \\\n",
    "    .sort_values(by=\"brewery_name\", ascending=False) \\\n",
    "    .rename(columns={\"brewery_name\": \"n_unique_names\"})"
   ]
  },
  {
   "cell_type": "code",
   "execution_count": 10,
   "id": "13a6cc0d",
   "metadata": {},
   "outputs": [
    {
     "data": {
      "text/html": [
       "<div>\n",
       "<style scoped>\n",
       "    .dataframe tbody tr th:only-of-type {\n",
       "        vertical-align: middle;\n",
       "    }\n",
       "\n",
       "    .dataframe tbody tr th {\n",
       "        vertical-align: top;\n",
       "    }\n",
       "\n",
       "    .dataframe thead th {\n",
       "        text-align: right;\n",
       "    }\n",
       "</style>\n",
       "<table border=\"1\" class=\"dataframe\">\n",
       "  <thead>\n",
       "    <tr style=\"text-align: right;\">\n",
       "      <th></th>\n",
       "      <th>n_unique_ids</th>\n",
       "    </tr>\n",
       "    <tr>\n",
       "      <th>brewery_name</th>\n",
       "      <th></th>\n",
       "    </tr>\n",
       "  </thead>\n",
       "  <tbody>\n",
       "    <tr>\n",
       "      <th>Ram Restaurant &amp; Brewery</th>\n",
       "      <td>8</td>\n",
       "    </tr>\n",
       "    <tr>\n",
       "      <th>Hops Grillhouse &amp; Brewery</th>\n",
       "      <td>7</td>\n",
       "    </tr>\n",
       "    <tr>\n",
       "      <th>BJ's Restaurant &amp; Brewery</th>\n",
       "      <td>4</td>\n",
       "    </tr>\n",
       "    <tr>\n",
       "      <th>Sierra Madre Brewing Co.</th>\n",
       "      <td>4</td>\n",
       "    </tr>\n",
       "    <tr>\n",
       "      <th>Hereford &amp; Hops Restaurant &amp; Brewpub</th>\n",
       "      <td>4</td>\n",
       "    </tr>\n",
       "    <tr>\n",
       "      <th>...</th>\n",
       "      <td>...</td>\n",
       "    </tr>\n",
       "    <tr>\n",
       "      <th>Den Engel Bierbrouwers</th>\n",
       "      <td>1</td>\n",
       "    </tr>\n",
       "    <tr>\n",
       "      <th>Dempsey's Restaurant And Brewery</th>\n",
       "      <td>1</td>\n",
       "    </tr>\n",
       "    <tr>\n",
       "      <th>Dempsey's Brewery, Restaurant &amp; Pub</th>\n",
       "      <td>1</td>\n",
       "    </tr>\n",
       "    <tr>\n",
       "      <th>Demarche Brewery</th>\n",
       "      <td>1</td>\n",
       "    </tr>\n",
       "    <tr>\n",
       "      <th>Łódzkie Browary S.A.</th>\n",
       "      <td>1</td>\n",
       "    </tr>\n",
       "  </tbody>\n",
       "</table>\n",
       "<p>5742 rows × 1 columns</p>\n",
       "</div>"
      ],
      "text/plain": [
       "                                      n_unique_ids\n",
       "brewery_name                                      \n",
       "Ram Restaurant & Brewery                         8\n",
       "Hops Grillhouse & Brewery                        7\n",
       "BJ's Restaurant & Brewery                        4\n",
       "Sierra Madre Brewing Co.                         4\n",
       "Hereford & Hops Restaurant & Brewpub             4\n",
       "...                                            ...\n",
       "Den Engel Bierbrouwers                           1\n",
       "Dempsey's Restaurant And Brewery                 1\n",
       "Dempsey's Brewery, Restaurant & Pub              1\n",
       "Demarche Brewery                                 1\n",
       "Łódzkie Browary S.A.                             1\n",
       "\n",
       "[5742 rows x 1 columns]"
      ]
     },
     "execution_count": 10,
     "metadata": {},
     "output_type": "execute_result"
    }
   ],
   "source": [
    "df[[\"brewery_name\", \"brewery_id\"]].groupby(by=\"brewery_name\") \\\n",
    "    .nunique() \\\n",
    "    .sort_values(by=\"brewery_id\", ascending=False) \\\n",
    "    .rename(columns={\"brewery_id\": \"n_unique_ids\"})"
   ]
  },
  {
   "cell_type": "code",
   "execution_count": 11,
   "id": "d43a91e9",
   "metadata": {},
   "outputs": [],
   "source": [
    "# df.query(\"brewery_id == 27\")  # looks valid, just unknown brewery name"
   ]
  },
  {
   "cell_type": "code",
   "execution_count": 12,
   "id": "d7536324",
   "metadata": {},
   "outputs": [],
   "source": [
    "# df.query(\"brewery_id == 1193\") # looks valid, just unknown brewery name"
   ]
  },
  {
   "cell_type": "code",
   "execution_count": 13,
   "id": "6bce0a37",
   "metadata": {},
   "outputs": [
    {
     "data": {
      "text/plain": [
       "3964     50\n",
       "1455     50\n",
       "5191     45\n",
       "4069     42\n",
       "5439     22\n",
       "4978      4\n",
       "16413     3\n",
       "21590     1\n",
       "Name: brewery_id, dtype: int64"
      ]
     },
     "execution_count": 13,
     "metadata": {},
     "output_type": "execute_result"
    }
   ],
   "source": [
    "# example (the other way around)\n",
    "df.query(\"brewery_name == 'Ram Restaurant & Brewery'\").get(\"brewery_id\").value_counts()"
   ]
  },
  {
   "cell_type": "markdown",
   "id": "c8289c31",
   "metadata": {},
   "source": [
    "**Remark:** The relationship between `id` and `name` doesn't look good. Generally, it appears as a one-to-one relationship (that's what I would expect), but it turns out there are several breweries represented by different ids.\n",
    "\n",
    "A single `id` always has a single name associated with it (except for two \"unnamed\" cases), but we cannot rely on having a constant `id` for a single name. Something to remember about."
   ]
  },
  {
   "cell_type": "markdown",
   "id": "8992bda2",
   "metadata": {},
   "source": [
    "### `review_time`\n",
    "Let's check if the timestamp is consistent."
   ]
  },
  {
   "cell_type": "code",
   "execution_count": 14,
   "id": "de473d71",
   "metadata": {},
   "outputs": [
    {
     "data": {
      "text/plain": [
       "0"
      ]
     },
     "execution_count": 14,
     "metadata": {},
     "output_type": "execute_result"
    }
   ],
   "source": [
    "df[\"review_time\"].isna().sum()"
   ]
  },
  {
   "cell_type": "code",
   "execution_count": 15,
   "id": "6efc4bd3",
   "metadata": {},
   "outputs": [],
   "source": [
    "review_time = pd.to_datetime(df[\"review_time\"], unit=\"s\")"
   ]
  },
  {
   "cell_type": "code",
   "execution_count": 16,
   "id": "495ec0df",
   "metadata": {},
   "outputs": [
    {
     "data": {
      "text/plain": [
       "count                          1586614\n",
       "mean     2008-10-15 16:48:00.012210944\n",
       "min                1996-08-22 00:00:01\n",
       "25%      2007-03-06 23:36:28.249999872\n",
       "50%         2009-04-08 15:01:21.500000\n",
       "75%      2010-10-31 23:40:05.249999872\n",
       "max                2012-01-11 12:35:48\n",
       "Name: review_time, dtype: object"
      ]
     },
     "execution_count": 16,
     "metadata": {},
     "output_type": "execute_result"
    }
   ],
   "source": [
    "review_time.describe(datetime_is_numeric=True)"
   ]
  },
  {
   "cell_type": "markdown",
   "id": "08b97e5c",
   "metadata": {},
   "source": [
    "Looks OK."
   ]
  },
  {
   "cell_type": "markdown",
   "id": "9e583958",
   "metadata": {},
   "source": [
    "### `review` figures"
   ]
  },
  {
   "cell_type": "code",
   "execution_count": 17,
   "id": "9b187f8f",
   "metadata": {},
   "outputs": [
    {
     "data": {
      "text/html": [
       "<div>\n",
       "<style scoped>\n",
       "    .dataframe tbody tr th:only-of-type {\n",
       "        vertical-align: middle;\n",
       "    }\n",
       "\n",
       "    .dataframe tbody tr th {\n",
       "        vertical-align: top;\n",
       "    }\n",
       "\n",
       "    .dataframe thead th {\n",
       "        text-align: right;\n",
       "    }\n",
       "</style>\n",
       "<table border=\"1\" class=\"dataframe\">\n",
       "  <thead>\n",
       "    <tr style=\"text-align: right;\">\n",
       "      <th></th>\n",
       "      <th>review_overall</th>\n",
       "      <th>review_aroma</th>\n",
       "      <th>review_appearance</th>\n",
       "      <th>review_palate</th>\n",
       "      <th>review_taste</th>\n",
       "    </tr>\n",
       "  </thead>\n",
       "  <tbody>\n",
       "    <tr>\n",
       "      <th>count</th>\n",
       "      <td>1586614.00</td>\n",
       "      <td>1586614.00</td>\n",
       "      <td>1586614.00</td>\n",
       "      <td>1586614.00</td>\n",
       "      <td>1586614.00</td>\n",
       "    </tr>\n",
       "    <tr>\n",
       "      <th>mean</th>\n",
       "      <td>3.82</td>\n",
       "      <td>3.74</td>\n",
       "      <td>3.84</td>\n",
       "      <td>3.74</td>\n",
       "      <td>3.79</td>\n",
       "    </tr>\n",
       "    <tr>\n",
       "      <th>std</th>\n",
       "      <td>0.72</td>\n",
       "      <td>0.70</td>\n",
       "      <td>0.62</td>\n",
       "      <td>0.68</td>\n",
       "      <td>0.73</td>\n",
       "    </tr>\n",
       "    <tr>\n",
       "      <th>min</th>\n",
       "      <td>0.00</td>\n",
       "      <td>1.00</td>\n",
       "      <td>0.00</td>\n",
       "      <td>1.00</td>\n",
       "      <td>1.00</td>\n",
       "    </tr>\n",
       "    <tr>\n",
       "      <th>25%</th>\n",
       "      <td>3.50</td>\n",
       "      <td>3.50</td>\n",
       "      <td>3.50</td>\n",
       "      <td>3.50</td>\n",
       "      <td>3.50</td>\n",
       "    </tr>\n",
       "    <tr>\n",
       "      <th>50%</th>\n",
       "      <td>4.00</td>\n",
       "      <td>4.00</td>\n",
       "      <td>4.00</td>\n",
       "      <td>4.00</td>\n",
       "      <td>4.00</td>\n",
       "    </tr>\n",
       "    <tr>\n",
       "      <th>75%</th>\n",
       "      <td>4.50</td>\n",
       "      <td>4.00</td>\n",
       "      <td>4.00</td>\n",
       "      <td>4.00</td>\n",
       "      <td>4.50</td>\n",
       "    </tr>\n",
       "    <tr>\n",
       "      <th>max</th>\n",
       "      <td>5.00</td>\n",
       "      <td>5.00</td>\n",
       "      <td>5.00</td>\n",
       "      <td>5.00</td>\n",
       "      <td>5.00</td>\n",
       "    </tr>\n",
       "  </tbody>\n",
       "</table>\n",
       "</div>"
      ],
      "text/plain": [
       "       review_overall  review_aroma  review_appearance  review_palate  \\\n",
       "count      1586614.00    1586614.00         1586614.00     1586614.00   \n",
       "mean             3.82          3.74               3.84           3.74   \n",
       "std              0.72          0.70               0.62           0.68   \n",
       "min              0.00          1.00               0.00           1.00   \n",
       "25%              3.50          3.50               3.50           3.50   \n",
       "50%              4.00          4.00               4.00           4.00   \n",
       "75%              4.50          4.00               4.00           4.00   \n",
       "max              5.00          5.00               5.00           5.00   \n",
       "\n",
       "       review_taste  \n",
       "count    1586614.00  \n",
       "mean           3.79  \n",
       "std            0.73  \n",
       "min            1.00  \n",
       "25%            3.50  \n",
       "50%            4.00  \n",
       "75%            4.50  \n",
       "max            5.00  "
      ]
     },
     "execution_count": 17,
     "metadata": {},
     "output_type": "execute_result"
    }
   ],
   "source": [
    "review_figures = [\"review_overall\", \"review_aroma\", \"review_appearance\", \"review_palate\", \"review_taste\"]\n",
    "\n",
    "df[review_figures].describe().apply(round, args=(2,))"
   ]
  },
  {
   "cell_type": "code",
   "execution_count": 18,
   "id": "fc9b0ebe",
   "metadata": {},
   "outputs": [
    {
     "data": {
      "text/plain": [
       "review_overall       0\n",
       "review_aroma         0\n",
       "review_appearance    0\n",
       "review_palate        0\n",
       "review_taste         0\n",
       "dtype: int64"
      ]
     },
     "execution_count": 18,
     "metadata": {},
     "output_type": "execute_result"
    }
   ],
   "source": [
    "df[review_figures].isna().sum(axis=0)"
   ]
  },
  {
   "cell_type": "code",
   "execution_count": 19,
   "id": "6c6dda21",
   "metadata": {},
   "outputs": [
    {
     "data": {
      "text/plain": [
       "0          0.375\n",
       "1         -0.125\n",
       "2         -0.125\n",
       "3          0.000\n",
       "4          0.250\n",
       "           ...  \n",
       "1586609   -1.125\n",
       "1586610   -0.625\n",
       "1586611   -1.000\n",
       "1586612    0.500\n",
       "1586613   -0.500\n",
       "Length: 1586614, dtype: float64"
      ]
     },
     "execution_count": 19,
     "metadata": {},
     "output_type": "execute_result"
    }
   ],
   "source": [
    "df[[c for c in review_figures if not c.endswith(\"overall\")]].mean(axis=1) - df[\"review_overall\"]"
   ]
  },
  {
   "cell_type": "markdown",
   "id": "8be79757",
   "metadata": {},
   "source": [
    "Again, this look healthy in terms of the data formats, outliers and missing values.\n",
    "\n",
    "The line above, I wanted to check if the `review_overall` columns wasn't redundant as the value could have been a simple average over other figures. It appears to be a weighted average though, so no. It's not redundant."
   ]
  },
  {
   "cell_type": "markdown",
   "id": "3a896bec",
   "metadata": {},
   "source": [
    "### `review_profilename`"
   ]
  },
  {
   "cell_type": "code",
   "execution_count": 20,
   "id": "9356da10",
   "metadata": {},
   "outputs": [
    {
     "data": {
      "text/plain": [
       "348"
      ]
     },
     "execution_count": 20,
     "metadata": {},
     "output_type": "execute_result"
    }
   ],
   "source": [
    "df[\"review_profilename\"].isna().sum()"
   ]
  },
  {
   "cell_type": "code",
   "execution_count": 21,
   "id": "517144ea",
   "metadata": {},
   "outputs": [
    {
     "data": {
      "text/plain": [
       "33387"
      ]
     },
     "execution_count": 21,
     "metadata": {},
     "output_type": "execute_result"
    }
   ],
   "source": [
    "df[\"review_profilename\"].nunique()"
   ]
  },
  {
   "cell_type": "code",
   "execution_count": 22,
   "id": "db3f8f6a",
   "metadata": {},
   "outputs": [
    {
     "data": {
      "text/plain": [
       "33387"
      ]
     },
     "execution_count": 22,
     "metadata": {},
     "output_type": "execute_result"
    }
   ],
   "source": [
    "df[\"review_profilename\"].str.strip().str.lower().nunique()"
   ]
  },
  {
   "cell_type": "code",
   "execution_count": 23,
   "id": "bbc39b13",
   "metadata": {},
   "outputs": [
    {
     "data": {
      "text/plain": [
       "northyorksammy     5817\n",
       "BuckeyeNation      4661\n",
       "mikesgroove        4617\n",
       "Thorpe429          3518\n",
       "womencantsail      3497\n",
       "                   ... \n",
       "jams7611              1\n",
       "JOENAMATH1            1\n",
       "ilikebeerandski       1\n",
       "zeravat               1\n",
       "Anchaya               1\n",
       "Name: review_profilename, Length: 33387, dtype: int64"
      ]
     },
     "execution_count": 23,
     "metadata": {},
     "output_type": "execute_result"
    }
   ],
   "source": [
    "df[\"review_profilename\"].value_counts().sort_values(ascending=False)"
   ]
  },
  {
   "cell_type": "markdown",
   "id": "ba655774",
   "metadata": {},
   "source": [
    "**Remark:** It looks good. The data is fairly consistent. There is a small fraction of missing values (~1%) of all the unique profiles. The way they are provided is also OK (simple check on dangling spaces and case sensitiveness)."
   ]
  },
  {
   "cell_type": "markdown",
   "id": "218dbc37",
   "metadata": {},
   "source": [
    "### `beer`: `name` and `id`\n",
    "Similar check to what we had before. Is it consident?"
   ]
  },
  {
   "cell_type": "code",
   "execution_count": 24,
   "id": "817bef3d",
   "metadata": {},
   "outputs": [
    {
     "data": {
      "text/plain": [
       "0"
      ]
     },
     "execution_count": 24,
     "metadata": {},
     "output_type": "execute_result"
    }
   ],
   "source": [
    "df[\"beer_name\"].isna().sum()"
   ]
  },
  {
   "cell_type": "code",
   "execution_count": 25,
   "id": "16abe379",
   "metadata": {},
   "outputs": [
    {
     "data": {
      "text/plain": [
       "56857"
      ]
     },
     "execution_count": 25,
     "metadata": {},
     "output_type": "execute_result"
    }
   ],
   "source": [
    "df[\"beer_name\"].nunique()"
   ]
  },
  {
   "cell_type": "code",
   "execution_count": 26,
   "id": "345f3d02",
   "metadata": {},
   "outputs": [
    {
     "data": {
      "text/plain": [
       "56803"
      ]
     },
     "execution_count": 26,
     "metadata": {},
     "output_type": "execute_result"
    }
   ],
   "source": [
    "df[\"beer_name\"].str.strip().str.lower().nunique()"
   ]
  },
  {
   "cell_type": "code",
   "execution_count": 27,
   "id": "94704da8",
   "metadata": {},
   "outputs": [
    {
     "data": {
      "text/plain": [
       "90 Minute IPA                                         3290\n",
       "India Pale Ale                                        3130\n",
       "Old Rasputin Russian Imperial Stout                   3111\n",
       "Sierra Nevada Celebration Ale                         3000\n",
       "Two Hearted Ale                                       2728\n",
       "                                                      ... \n",
       "Coffee With Cream Stout                                  1\n",
       "Karuizawa Kogen Beer: Seasonal 2010, Irish Red Ale       1\n",
       "The Knowledge                                            1\n",
       "Härtsfelder Kloster Braunbier                            1\n",
       "Brett The Hitman Hart                                    1\n",
       "Name: beer_name, Length: 56857, dtype: int64"
      ]
     },
     "execution_count": 27,
     "metadata": {},
     "output_type": "execute_result"
    }
   ],
   "source": [
    "df[\"beer_name\"].value_counts()"
   ]
  },
  {
   "cell_type": "code",
   "execution_count": 28,
   "id": "d77f8572",
   "metadata": {},
   "outputs": [
    {
     "data": {
      "text/html": [
       "<div>\n",
       "<style scoped>\n",
       "    .dataframe tbody tr th:only-of-type {\n",
       "        vertical-align: middle;\n",
       "    }\n",
       "\n",
       "    .dataframe tbody tr th {\n",
       "        vertical-align: top;\n",
       "    }\n",
       "\n",
       "    .dataframe thead th {\n",
       "        text-align: right;\n",
       "    }\n",
       "</style>\n",
       "<table border=\"1\" class=\"dataframe\">\n",
       "  <thead>\n",
       "    <tr style=\"text-align: right;\">\n",
       "      <th></th>\n",
       "      <th>beer_name</th>\n",
       "    </tr>\n",
       "  </thead>\n",
       "  <tbody>\n",
       "    <tr>\n",
       "      <th>180932</th>\n",
       "      <td>Alesmith Speedway Stout - Vanilla And Coconut</td>\n",
       "    </tr>\n",
       "    <tr>\n",
       "      <th>334479</th>\n",
       "      <td>Colônia Pilsen</td>\n",
       "    </tr>\n",
       "    <tr>\n",
       "      <th>334487</th>\n",
       "      <td>Colônia Extra Lager</td>\n",
       "    </tr>\n",
       "  </tbody>\n",
       "</table>\n",
       "</div>"
      ],
      "text/plain": [
       "                                             beer_name\n",
       "180932  Alesmith Speedway Stout - Vanilla And Coconut \n",
       "334479                                 Colônia Pilsen \n",
       "334487                            Colônia Extra Lager "
      ]
     },
     "execution_count": 28,
     "metadata": {},
     "output_type": "execute_result"
    }
   ],
   "source": [
    "pd.DataFrame(df[df[\"beer_name\"] != df[\"beer_name\"].str.strip()][\"beer_name\"]).drop_duplicates()"
   ]
  },
  {
   "cell_type": "markdown",
   "id": "d8e99368",
   "metadata": {},
   "source": [
    "OK, so we'll need to normalize this field, as it appears that some beer have their names written in different ways. The above ones are the prime examples."
   ]
  },
  {
   "cell_type": "code",
   "execution_count": 29,
   "id": "9d988c72",
   "metadata": {},
   "outputs": [
    {
     "data": {
      "text/plain": [
       "66055"
      ]
     },
     "execution_count": 29,
     "metadata": {},
     "output_type": "execute_result"
    }
   ],
   "source": [
    "df[\"beer_beerid\"].nunique()"
   ]
  },
  {
   "cell_type": "code",
   "execution_count": 30,
   "id": "13e8d394",
   "metadata": {},
   "outputs": [
    {
     "data": {
      "text/plain": [
       "0"
      ]
     },
     "execution_count": 30,
     "metadata": {},
     "output_type": "execute_result"
    }
   ],
   "source": [
    "df[\"beer_beerid\"].isna().sum()"
   ]
  },
  {
   "cell_type": "code",
   "execution_count": 31,
   "id": "f64d9045",
   "metadata": {},
   "outputs": [
    {
     "data": {
      "text/plain": [
       "66055"
      ]
     },
     "execution_count": 31,
     "metadata": {},
     "output_type": "execute_result"
    }
   ],
   "source": [
    "df[[\"beer_name\", \"beer_beerid\"]].groupby(by=\"beer_beerid\") \\\n",
    "    .nunique() \\\n",
    "    .sort_values(by=\"beer_name\", ascending=False) \\\n",
    "    .rename(columns={\"beer_name\": \"n_unique_names\"}) \\\n",
    "    .get(\"n_unique_names\") \\\n",
    "    .sum()"
   ]
  },
  {
   "cell_type": "code",
   "execution_count": 32,
   "id": "01cca094",
   "metadata": {},
   "outputs": [
    {
     "data": {
      "text/plain": [
       "66055"
      ]
     },
     "execution_count": 32,
     "metadata": {},
     "output_type": "execute_result"
    }
   ],
   "source": [
    "df[[\"beer_name\", \"beer_beerid\"]].groupby(by=\"beer_name\") \\\n",
    "    .nunique() \\\n",
    "    .sort_values(by=\"beer_beerid\", ascending=False) \\\n",
    "    .rename(columns={\"beer_beerid\": \"n_unique_ids\"}) \\\n",
    "    .get(\"n_unique_ids\") \\\n",
    "    .sum()"
   ]
  },
  {
   "cell_type": "markdown",
   "id": "9b6ea201",
   "metadata": {},
   "source": [
    "OK, so the only issue it seems are the little inconsistencies in typing. We'll fix that."
   ]
  },
  {
   "cell_type": "markdown",
   "id": "f0eb6373",
   "metadata": {},
   "source": [
    "### `beer_abv`"
   ]
  },
  {
   "cell_type": "code",
   "execution_count": 33,
   "id": "7c9de201",
   "metadata": {},
   "outputs": [
    {
     "data": {
      "text/plain": [
       "4.27"
      ]
     },
     "execution_count": 33,
     "metadata": {},
     "output_type": "execute_result"
    }
   ],
   "source": [
    "round(df[\"beer_abv\"].isna().sum() / len(df[\"beer_abv\"]) * 100, 2)"
   ]
  },
  {
   "cell_type": "markdown",
   "id": "5f2669e7",
   "metadata": {},
   "source": [
    "~4% of missing values: \"not great, not terrible.\""
   ]
  },
  {
   "cell_type": "code",
   "execution_count": 34,
   "id": "c0da5ed0",
   "metadata": {},
   "outputs": [
    {
     "data": {
      "text/plain": [
       "count    1518829.00\n",
       "mean           7.04\n",
       "std            2.32\n",
       "min            0.01\n",
       "25%            5.20\n",
       "50%            6.50\n",
       "75%            8.50\n",
       "max           57.70\n",
       "Name: beer_abv, dtype: float64"
      ]
     },
     "execution_count": 34,
     "metadata": {},
     "output_type": "execute_result"
    }
   ],
   "source": [
    "df[\"beer_abv\"].describe().apply(round, args=(2,))"
   ]
  },
  {
   "cell_type": "markdown",
   "id": "29e2e95b",
   "metadata": {},
   "source": [
    "OK... if a beer's ABV is 57% is not a beer anymore... :P Let's check the distribution."
   ]
  },
  {
   "cell_type": "code",
   "execution_count": 35,
   "id": "d3cb276a",
   "metadata": {},
   "outputs": [
    {
     "data": {
      "text/plain": [
       "<AxesSubplot:>"
      ]
     },
     "execution_count": 35,
     "metadata": {},
     "output_type": "execute_result"
    },
    {
     "data": {
      "image/png": "[encoded data removed]",
      "text/plain": [
       "<Figure size 432x288 with 1 Axes>"
      ]
     },
     "metadata": {
      "needs_background": "light"
     },
     "output_type": "display_data"
    }
   ],
   "source": [
    "df[\"beer_abv\"].hist(bins=50)"
   ]
  },
  {
   "cell_type": "markdown",
   "id": "26c7458f",
   "metadata": {},
   "source": [
    "**Remark:** Looks like beer. We should probably chop the dataset at `beer_abv` > 20, cause it's unrealisic for human beeings to drink that."
   ]
  },
  {
   "cell_type": "markdown",
   "id": "b235c31d",
   "metadata": {},
   "source": [
    "### \"Cross-relationship\""
   ]
  },
  {
   "cell_type": "code",
   "execution_count": 36,
   "id": "7b91837d",
   "metadata": {},
   "outputs": [
    {
     "data": {
      "text/plain": [
       "array([[<AxesSubplot:title={'center':'beers_per_brewery'}>]], dtype=object)"
      ]
     },
     "execution_count": 36,
     "metadata": {},
     "output_type": "execute_result"
    },
    {
     "data": {
      "image/png": "[encoded data removed]",
      "text/plain": [
       "<Figure size 432x288 with 1 Axes>"
      ]
     },
     "metadata": {
      "needs_background": "light"
     },
     "output_type": "display_data"
    }
   ],
   "source": [
    "df[[\"brewery_name\", \"beer_name\"]] \\\n",
    "    .groupby(\"brewery_name\") \\\n",
    "    .count() \\\n",
    "    .sort_values(by=\"beer_name\", ascending=False) \\\n",
    "    .rename(columns={\"beer_name\": \"beers_per_brewery\"}) \\\n",
    "    .hist(bins=50)"
   ]
  },
  {
   "cell_type": "markdown",
   "id": "4cff825c",
   "metadata": {},
   "source": [
    "**Remark:** This is kind of expected. We have a few breweries that supply a large variety of beers and a long tail of single (or niche) assortiment. We may need to get rid of those when considering a recommender system if it turns out that reviews obtained from those (aka few samples) skew our results."
   ]
  },
  {
   "cell_type": "markdown",
   "id": "b81b8d74",
   "metadata": {},
   "source": [
    "## Conclusions"
   ]
  },
  {
   "cell_type": "markdown",
   "id": "e8966a10",
   "metadata": {},
   "source": [
    "Alright, the dataset looks quite OK. We can proceed with analysing the numbers and answering questions.\n",
    "There is, however, a short TODO list when it comes to curing this data:\n",
    "1. We can remove the unnamed breweries. There are only two of these.\n",
    "2. Convert the timestamps to something human-readable upon picking up the dataset again.\n",
    "3. Cast all reviews to int8 for memory saving and speed (I know it's a small datset, I am just saying I think of it should it grow larger one day...).\n",
    "4. Convert all textual data to lowercase for ease-of-use (and also for consistency for the `beer_name` column).\n",
    "5. Throw away all entries of beers with ABV greater than 20% (for human safety reasons).\n",
    "\n",
    "Once we have that, we can look into correlations, which may allow us to throw away more columns (even though I don't really think it will)."
   ]
  },
  {
   "cell_type": "code",
   "execution_count": null,
   "id": "7a5ebacf",
   "metadata": {},
   "outputs": [],
   "source": []
  }
 ],
 "metadata": {
  "kernelspec": {
   "display_name": "Python 3",
   "language": "python",
   "name": "python3"
  },
  "language_info": {
   "codemirror_mode": {
    "name": "ipython",
    "version": 3
   },
   "file_extension": ".py",
   "mimetype": "text/x-python",
   "name": "python",
   "nbconvert_exporter": "python",
   "pygments_lexer": "ipython3",
   "version": "3.9.1"
  }
 },
 "nbformat": 4,
 "nbformat_minor": 5
}
